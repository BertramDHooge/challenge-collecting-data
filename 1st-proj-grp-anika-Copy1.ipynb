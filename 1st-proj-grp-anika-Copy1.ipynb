{
 "cells": [
  {
   "cell_type": "code",
   "execution_count": 1,
   "id": "864565b7",
   "metadata": {},
   "outputs": [],
   "source": [
    "import bs4\n",
    "import requests\n",
    "from bs4 import BeautifulSoup\n",
    "import numpy as np\n",
    "import pandas as pd\n",
    "import json\n",
    "import re\n",
    "import lxml.html\n",
    "import time\n",
    "import random\n",
    "from random import randint\n",
    "import logging\n",
    "import collections\n",
    "from time import gmtime, strftime\n",
    "\n",
    "import re\n",
    "from tabulate import tabulate\n",
    "import os\n",
    "\n",
    "date = strftime(\"%Y-%m-%d\")\n",
    "# Loading libraries"
   ]
  },
  {
   "cell_type": "code",
   "execution_count": 2,
   "id": "2c8bbf3c",
   "metadata": {},
   "outputs": [],
   "source": [
    "import selenium\n",
    "\n",
    "# The selenium.webdriver module provides all the implementations of WebDriver\n",
    "# Currently supported are Firefox, Chrome, IE and Remote. The `Keys` class provides keys on\n",
    "# the keyboard such as RETURN, F1, ALT etc.\n",
    "\n",
    "from selenium import webdriver\n",
    "from selenium.webdriver.common.keys import Keys\n",
    "from selenium import webdriver\n",
    "from selenium.webdriver.support.ui import WebDriverWait\n",
    "from selenium.webdriver.support import expected_conditions as EC\n",
    "from selenium.common.exceptions import TimeoutException\n",
    "from selenium.webdriver.common.by import By"
   ]
  },
  {
   "cell_type": "code",
   "execution_count": 22,
   "id": "d657ee3c",
   "metadata": {},
   "outputs": [],
   "source": [
    "links = []\n",
    "page = 1\n",
    "\n",
    "while len(links) < 100:\n",
    "    url = \"https://www.immoweb.be/en/search/house-and-apartment/for-sale?countries=BE&page={page}&orderBy=newest\"\n",
    "\n",
    "    driver = webdriver.Firefox()\n",
    "    driver.implicitly_wait(10) \n",
    "    driver.get(url)    \n",
    "\n",
    "# Each web page contains 33 property listings. Using an indefinite loop we iterate through the pages until we\n",
    "# are able to collect about 100 links (around 3 web pages) of houses and apartments. The driver searches for the \n",
    "# relevant elements and should wait around 10 seconds if they are not immediately present in the HTML DOM.  \n",
    "    \n",
    "    soup = BeautifulSoup(driver.page_source) \n",
    "    # Use BeautifulSoup module to prepare data frame\n",
    "    \n",
    "    driver.close()\n",
    "\n",
    "    for list_item in soup.find_all(\"li\", attrs={\"class\": \"search-results__item\"}):\n",
    "        for link in list_item.find_all(\"a\", attrs={\"class\": \"card__title-link\"}):\n",
    "            links.append(link.get(\"href\"))\n",
    "    \n",
    "    page += 1"
   ]
  },
  {
   "cell_type": "code",
   "execution_count": 23,
   "id": "c9ba752f",
   "metadata": {},
   "outputs": [],
   "source": [
    "source = requests.get(\"https://www.immoweb.be/en/search/house-and-apartment/for-sale?countries=BE&page={page}&orderBy=newest\").text\n",
    "\n",
    "soup = BeautifulSoup(source, \"lxml\")\n",
    "# Recovery of the url of the pages of houses and apartments for sale"
   ]
  }
 ],
 "metadata": {
  "kernelspec": {
   "display_name": "Python 3 (ipykernel)",
   "language": "python",
   "name": "python3"
  },
  "language_info": {
   "codemirror_mode": {
    "name": "ipython",
    "version": 3
   },
   "file_extension": ".py",
   "mimetype": "text/x-python",
   "name": "python",
   "nbconvert_exporter": "python",
   "pygments_lexer": "ipython3",
   "version": "3.9.7"
  }
 },
 "nbformat": 4,
 "nbformat_minor": 5
}
