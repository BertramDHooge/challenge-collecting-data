{
 "cells": [
  {
   "cell_type": "markdown",
   "metadata": {},
   "source": [
    "## Steps\n",
    " * get 10000 links\n",
    " * get data from links\n",
    " * see where all required data is saved\n",
    " * clean data (empty rows, numerical values, etc.)\n"
   ]
  },
  {
   "cell_type": "code",
   "execution_count": 2,
   "metadata": {},
   "outputs": [],
   "source": [
    "import bs4\n",
    "import requests\n",
    "from bs4 import BeautifulSoup\n",
    "import numpy as np\n",
    "import pandas as pd\n",
    "import json\n",
    "import re\n",
    "import lxml.html\n",
    "import time\n",
    "import random\n",
    "from random import randint\n",
    "import logging\n",
    "import collections\n",
    "from time import gmtime, strftime\n",
    "\n",
    "import re\n",
    "from tabulate import tabulate\n",
    "import os\n",
    "\n",
    "date = strftime(\"%Y-%m-%d\")\n",
    "\n",
    "import selenium\n",
    "\n",
    "# The selenium.webdriver module provides all the implementations of WebDriver\n",
    "# Currently supported are Firefox, Chrome, IE and Remote. The `Keys` class provides keys on\n",
    "# the keyboard such as RETURN, F1, ALT etc.\n",
    "from selenium import webdriver\n",
    "from selenium.webdriver.common.keys import Keys\n",
    "from selenium import webdriver\n",
    "from selenium.webdriver.support.ui import WebDriverWait\n",
    "from selenium.webdriver.support import expected_conditions as EC\n",
    "from selenium.common.exceptions import TimeoutException\n",
    "from selenium.webdriver.common.by import By"
   ]
  },
  {
   "cell_type": "markdown",
   "metadata": {},
   "source": [
    "## Get the initial link and its data\n",
    "\n",
    "Using the page in the url we loop through the pages untill we have as many links as we need (currently 100). This takes a while, due to needing time to fully load the page before we can get the data (30 links per page though, maybe something I can do with asynchronous stuff so we don't have to wait as long(just rand time between 0 and 2 sec maybe))"
   ]
  },
  {
   "cell_type": "code",
   "execution_count": 3,
   "metadata": {},
   "outputs": [],
   "source": [
    "links = []\n",
    "\n",
    "page = 1\n",
    "\n",
    "while len(links) < 100:\n",
    "    url = f\"https://www.immoweb.be/en/search/house-and-apartment/for-sale?countries=BE&page={page}&orderBy=newest\"\n",
    "\n",
    "    driver = webdriver.Firefox()\n",
    "    driver.implicitly_wait(5)\n",
    "    driver.get(url)\n",
    "\n",
    "    #python_button = driver.find_elements_by_xpath('//div[@data-reactid=\"269\"]')[0]\n",
    "    #python_button.click()\n",
    "\n",
    "    # And then we use Beautiful soup\n",
    "    soup = BeautifulSoup(driver.page_source)\n",
    "\n",
    "    driver.close()\n",
    "\n",
    "    for list_item in soup.find_all(\"li\", attrs={\"class\": \"search-results__item\"}):\n",
    "        for link in list_item.find_all(\"a\", attrs={\"class\": \"card__title-link\"}):\n",
    "            links.append(link.get(\"href\"))\n",
    "    \n",
    "    page += 1"
   ]
  },
  {
   "cell_type": "markdown",
   "metadata": {},
   "source": [
    "## Print the links\n",
    "\n",
    "Just to get a bit of an overview, can we maybe spot a pattern? (Sadly, no)"
   ]
  },
  {
   "cell_type": "code",
   "execution_count": 5,
   "metadata": {
    "scrolled": false
   },
   "outputs": [],
   "source": [
    "#for link in links:\n",
    "    #print(link)"
   ]
  },
  {
   "cell_type": "markdown",
   "metadata": {},
   "source": [
    "## Get the data from one of the links\n",
    "\n",
    "We now make a soup from just 1 of the links so we can start looking at the data and which data we need. Later we will replace this with a loop so we can start building soups from the different links. Currently using just a regular get request, hopefully we can get all the necessary data with this, not really looking forward to having to start and close drivers for every link."
   ]
  },
  {
   "cell_type": "code",
   "execution_count": 10,
   "metadata": {},
   "outputs": [
    {
     "name": "stdout",
     "output_type": "stream",
     "text": [
      "https://www.immoweb.be/en/classified/house/for-sale/gilly-(charleroi)/6060/9777760?searchId=621cb10780c2f 200\n"
     ]
    }
   ],
   "source": [
    "r = requests.get('https://www.immoweb.be/en/classified/house/for-sale/soignies/7060/9722093?searchId=621cb380e1a80')\n",
    "print(links[0], r.status_code)\n",
    "soup = BeautifulSoup(r.content, \"lxml\")"
   ]
  },
  {
   "cell_type": "markdown",
   "metadata": {},
   "source": [
    "Lets take a look at what's in our soup"
   ]
  },
  {
   "cell_type": "code",
   "execution_count": 11,
   "metadata": {},
   "outputs": [
    {
     "name": "stdout",
     "output_type": "stream",
     "text": [
      "{'id': '9722093', 'type': 'house', 'subtype': 'house', 'price': '700000', 'transactionType': 'for sale', 'zip': '7060', 'visualisationOption': 'xl', 'kitchen': {'type': 'hyper equipped'}, 'building': {'constructionYear': '', 'condition': 'as new'}, 'energy': {'heatingType': 'fueloil'}, 'certificates': {'primaryEnergyConsumptionLevel': ''}, 'bedroom': {'count': '0'}, 'land': {'surface': '14000'}, 'atticExists': '', 'basementExists': '', 'outdoor': {'garden': {'surface': '50'}, 'terrace': {'exists': 'true'}}, 'specificities': {'SME': {'office': {'exists': 'true'}}}, 'wellnessEquipment': {'hasSwimmingPool': 'true'}, 'parking': {'parkingSpaceCount': {'indoor': '', 'outdoor': '10'}}, 'condition': {'isNewlyBuilt': 'false'}}\n"
     ]
    }
   ],
   "source": [
    "script_text = soup.find_all(\"script\")\n",
    "script_text = soup.find_all(\"script\")[1].text.split(\"= \", 1)[1]\n",
    "\n",
    "json_data = json.loads(script_text[:script_text.find(\";\")])\n",
    "print(json_data[0]['classified'])"
   ]
  },
  {
   "cell_type": "code",
   "execution_count": 7,
   "metadata": {},
   "outputs": [],
   "source": [
    "# Locality\n",
    "# <span class=\"classified__information--address-row\"> \n",
    "# -->                                       Rue des Francais 1,41 \n",
    "#                                <!----></span>\n",
    "\n",
    "\n",
    "# Type of property (House/apartment)\n",
    "# Located in link as indicated below, maybe start fitering before getting data, so we can split the poroperty types\n",
    "# https://www.immoweb.be/en/classified/ [[apartment]] /for-sale/ans/4430/9777582?searchId=621c956edcf6b \n",
    "\n",
    "print(json_data[0]['classified']['type'])\n",
    "\n",
    "# Subtype of property (Bungalow, Chalet, Mansion, ...)\n",
    "# I don't directly see this in the link, but there is an option to filter this on the main page so there should be a way to get this info\n",
    "\n",
    "print(json_data[0]['classified']['subtype'])\n",
    "\n",
    "# Price\n",
    "# <p class=\"classified__price\"><span aria-hidden=\"true\">\n",
    "# -->                                   €204,900\n",
    "#                                </span> <span class=\"sr-only\">204900€</span></p>\n",
    "\n",
    "print(json_data[0]['classified']['price'])\n",
    "\n",
    "# Type of sale (Exclusion of life sales)\n",
    "# Not sure what is asked here specifically\n",
    "\n",
    "print(json_data[0]['classified']['transactionType']) #?\n",
    "\n",
    "# Number of rooms\n",
    "# Is this number of bedrooms? casue if so:\n",
    "#<tr class=\"classified-table__row\"><th scope=\"row\" class=\"classified-table__header\">\n",
    "#                                    Bedrooms\n",
    "#                                </th> <td class=\"classified-table__data\">\n",
    "# -->                                   3\n",
    "#                                </td></tr>\n",
    "\n",
    "print(json_data[0]['classified']['bedroom']['count'])\n",
    "\n",
    "#Area\n",
    "#<tr class=\"classified-table__row\"><th scope=\"row\" class=\"classified-table__header\">\n",
    "#                                    Living area\n",
    "#                                </th> <td class=\"classified-table__data\">\n",
    "# -->                                   90\n",
    "#\n",
    "#                                    <span class=\"abbreviation\"><span aria-hidden=\"true\">\n",
    "# -->                                           m²                                        </span> <span class=\"sr-only\">\n",
    "#                                            square meters\n",
    "#                                        </span></span></td></tr>\n",
    "\n",
    "# Fully equipped kitchen (Yes/No)\n",
    "# Not sure but maybe\n",
    "# <tr class=\"classified-table__row\"><th scope=\"row\" class=\"classified-table__header\">Kitchen type</th> <td class=\"classified-table__data\">\n",
    "# -->                                   Installed\n",
    "#                                </td></tr>\n",
    "\n",
    "print(json_data[0]['classified']['kitchen']) #get rest of data from here\n",
    "\n",
    "#Furnished (Yes/No)\n",
    "#<tr class=\"classified-table__row\"><th scope=\"row\" class=\"classified-table__header\">Furnished</th> <td class=\"classified-table__data\">\n",
    "# -->                                   No\n",
    "#                                </td></tr>\n",
    "\n",
    "\n",
    "#Open fire (Yes/No)\n",
    "# Not sure but maybe\n",
    "#<tr class=\"classified-table__row\"><th scope=\"row\" class=\"classified-table__header\">Heating type</th> <td class=\"classified-table__data\">\n",
    "# -->                               Gas\n",
    "#                            </td></tr>\n",
    "\n",
    "#<tr class=\"classified-table__row\"><th scope=\"row\" class=\"classified-table__header\">\n",
    "#                                    How many fireplaces?\n",
    "#                            </th> <td class=\"classified-table__data\">\n",
    "# -->                                   2\n",
    "#                            </td></tr>\n",
    "\n",
    "#Terrace (Yes/No)\n",
    "    #If yes: Area\n",
    "\n",
    "print(json_data[0]['classified']['terrace'])    \n",
    "    \n",
    "#Garden (Yes/No)\n",
    "    #If yes: Area\n",
    "\n",
    "print(json_data[0]['classified']['outdoor']['garden'])    \n",
    "    \n",
    "#Surface of the land\n",
    "# see area?\n",
    "\n",
    "#Surface area of the plot of land\n",
    "\n",
    "print(json_data[0]['classified']['land']['surface'])\n",
    "\n",
    "#Number of facades\n",
    "# <tr class=\"classified-table__row\"><th scope=\"row\" class=\"classified-table__header\">\n",
    "#                                    Number of frontages\n",
    "#                                </th> <td class=\"classified-table__data\">\n",
    "# -->                                   4\n",
    "#                                </td></tr>\n",
    "\n",
    "pass\n",
    "\n",
    "#Swimming pool (Yes/No)\n",
    "\n",
    "print(json_data[0]['classified']['wellnessEquipment']) #get rest of data from this\n",
    "\n",
    "#State of the building (New, to be renovated, ...)\n",
    "\n",
    "print(json_data[0]['classified']['condition']) #get rest of data from this"
   ]
  },
  {
   "cell_type": "code",
   "execution_count": null,
   "metadata": {},
   "outputs": [],
   "source": []
  }
 ],
 "metadata": {
  "kernelspec": {
   "display_name": "Python 3",
   "language": "python",
   "name": "python3"
  },
  "language_info": {
   "codemirror_mode": {
    "name": "ipython",
    "version": 3
   },
   "file_extension": ".py",
   "mimetype": "text/x-python",
   "name": "python",
   "nbconvert_exporter": "python",
   "pygments_lexer": "ipython3",
   "version": "3.8.10"
  }
 },
 "nbformat": 4,
 "nbformat_minor": 4
}
